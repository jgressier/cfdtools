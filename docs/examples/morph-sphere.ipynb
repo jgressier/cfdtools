{
 "cells": [
  {
   "cell_type": "code",
   "execution_count": null,
   "metadata": {},
   "outputs": [],
   "source": [
    "# set backend for vtk/pyvista in jupyter\n",
    "import pyvista as pv\n",
    "pv.set_jupyter_backend('static')\n",
    "from pyvirtualdisplay import Display\n",
    "import numpy as np\n",
    "#pv.start_xvfb()"
   ]
  },
  {
   "cell_type": "code",
   "execution_count": null,
   "metadata": {},
   "outputs": [],
   "source": [
    "# cfdtools packages\n",
    "import cfdtools.meshbase.simple as sm\n",
    "from cfdtools.vtk import vtkMesh"
   ]
  },
  {
   "cell_type": "code",
   "execution_count": null,
   "metadata": {},
   "outputs": [],
   "source": [
    "ni, nj, nk = 10, 10, 10\n",
    "cube = sm.Cube(ni, nj, nk)\n",
    "mesh = cube.export_mesh()\n",
    "vtkmesh = vtkMesh(mesh)"
   ]
  },
  {
   "cell_type": "code",
   "execution_count": null,
   "metadata": {},
   "outputs": [],
   "source": [
    "with Display():\n",
    "    vtkmesh.plot()"
   ]
  },
  {
   "cell_type": "code",
   "execution_count": null,
   "metadata": {},
   "outputs": [],
   "source": [
    "def map_to_sphere(x, y, z):\n",
    "    # cube has side range 0 to 1, map to [-1, 1]\n",
    "    x1, y1, z1 = 2*x-1, 2*y-1, 2*z-1\n",
    "    x1q, y1q, z1q = (v**2 for v in (x1, y1, z1))\n",
    "    x2 = x1 * np.sqrt(1 - (      y1q + z1q) / 2 +       y1q * z1q / 3)\n",
    "    y2 = y1 * np.sqrt(1 - (x1q    +    z1q) / 2 + x1q    *    z1q / 3)\n",
    "    z2 = z1 * np.sqrt(1 - (x1q + y1q      ) / 2 + x1q * y1q       / 3)\n",
    "    return x2, y2, z2\n",
    "\n",
    "mesh_sph = cube.export_mesh()\n",
    "mesh_sph.morph(map_to_sphere)"
   ]
  },
  {
   "cell_type": "code",
   "execution_count": null,
   "metadata": {},
   "outputs": [],
   "source": [
    "vtkmesh_sph = vtkMesh(mesh_sph)\n",
    "with Display():\n",
    "    vtkmesh_sph.plot()"
   ]
  },
  {
   "cell_type": "code",
   "execution_count": null,
   "metadata": {},
   "outputs": [],
   "source": [
    "cube = sm.Cube(12, 12, 12)\n",
    "mesh = cube.export_mesh()\n",
    "vtkmesh = vtkMesh(mesh)\n",
    "def var_u(xyz):\n",
    "    dp = 2*np.pi\n",
    "    return 10+2*np.sin(dp*xyz[:,2])+np.sin(2*dp*xyz[:,0])\n",
    "def var_p(xyz):\n",
    "    dp = 2*np.pi\n",
    "    return 100+np.sin(4*dp*xyz[:,2])*np.sin(2*dp*xyz[:,2])\n",
    "xyz = vtkmesh.pyvista_grid.cell_centers().points\n",
    "vtkmesh.pyvista_grid.cell_data['U'] = var_u(xyz)\n",
    "vtkmesh.pyvista_grid.cell_data['P'] = var_p(xyz)"
   ]
  },
  {
   "cell_type": "code",
   "execution_count": null,
   "metadata": {},
   "outputs": [],
   "source": [
    "with Display():\n",
    "    vtkmesh.plot(scalars='P')"
   ]
  },
  {
   "cell_type": "code",
   "execution_count": null,
   "metadata": {},
   "outputs": [],
   "source": [
    "vtkslice = vtkmesh.vtk_zconvolution(rms=True)\n",
    "with Display():\n",
    "    vtkslice.plot()"
   ]
  }
 ],
 "metadata": {
  "kernelspec": {
   "display_name": "Python 3",
   "language": "python",
   "name": "python3"
  },
  "language_info": {
   "codemirror_mode": {
    "name": "ipython",
    "version": 3
   },
   "file_extension": ".py",
   "mimetype": "text/x-python",
   "name": "python",
   "nbconvert_exporter": "python",
   "pygments_lexer": "ipython3",
   "version": "3.13.2"
  }
 },
 "nbformat": 4,
 "nbformat_minor": 2
}
