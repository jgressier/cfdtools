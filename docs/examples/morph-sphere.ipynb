{
 "cells": [
  {
   "cell_type": "code",
   "execution_count": null,
   "metadata": {},
   "outputs": [],
   "source": [
    "# set backend for vtk/pyvista in jupyter\n",
    "import pyvista as pv\n",
    "pv.set_jupyter_backend('static')"
   ]
  },
  {
   "cell_type": "code",
   "execution_count": null,
   "metadata": {},
   "outputs": [],
   "source": [
    "# cfdtools packages\n",
    "import cfdtools.meshbase.simple as sm\n",
    "from cfdtools.vtk import vtkMesh"
   ]
  },
  {
   "cell_type": "code",
   "execution_count": null,
   "metadata": {},
   "outputs": [],
   "source": [
    "cube = sm.Cube(10, 10, 10)\n",
    "mesh = cube.export_mesh()\n",
    "vtkmesh = vtkMesh(mesh)"
   ]
  },
  {
   "cell_type": "code",
   "execution_count": null,
   "metadata": {},
   "outputs": [],
   "source": [
    "vtkmesh.plot()"
   ]
  },
  {
   "cell_type": "code",
   "execution_count": null,
   "metadata": {},
   "outputs": [],
   "source": [
    "def map_to_sphere(x, y, z):\n",
    "    import numpy as np\n",
    "    # cube has side range 0 to 1, map to [-1, 1]\n",
    "    x1 = 2*x-1 ; y1 = 2*y-1 ; z1 = 2*z-1\n",
    "    x2 = x1 * np.sqrt(1-y1**2/2-z1**2/2+(y1*z1)**2/3)\n",
    "    y2 = y1 * np.sqrt(1-x1**2/2-z1**2/2+(x1*z1)**2/3)\n",
    "    z2 = z1 * np.sqrt(1-x1**2/2-y1**2/2+(x1*y1)**2/3)\n",
    "    return x2, y2, z2\n",
    "\n",
    "mesh.morph(map_to_sphere)"
   ]
  },
  {
   "cell_type": "code",
   "execution_count": null,
   "metadata": {},
   "outputs": [],
   "source": [
    "vtkmesh = vtkMesh(mesh)\n",
    "vtkmesh.plot()"
   ]
  }
 ],
 "metadata": {
  "kernelspec": {
   "display_name": "Python 3",
   "language": "python",
   "name": "python3"
  },
  "language_info": {
   "codemirror_mode": {
    "name": "ipython",
    "version": 3
   },
   "file_extension": ".py",
   "mimetype": "text/x-python",
   "name": "python",
   "nbconvert_exporter": "python",
   "pygments_lexer": "ipython3",
   "version": "3.9.15"
  }
 },
 "nbformat": 4,
 "nbformat_minor": 2
}
