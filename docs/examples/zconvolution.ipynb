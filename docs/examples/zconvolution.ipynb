{
 "cells": [
  {
   "cell_type": "code",
   "execution_count": null,
   "metadata": {},
   "outputs": [],
   "source": [
    "# set backend for vtk/pyvista in jupyter\n",
    "import pyvista as pv\n",
    "pv.set_jupyter_backend('static')\n",
    "from pyvirtualdisplay import Display\n",
    "import numpy as np\n",
    "#pv.start_xvfb()"
   ]
  },
  {
   "cell_type": "code",
   "execution_count": null,
   "metadata": {},
   "outputs": [],
   "source": [
    "# cfdtools packages\n",
    "import cfdtools.meshbase.simple as sm\n",
    "from cfdtools.vtk import vtkMesh"
   ]
  },
  {
   "cell_type": "code",
   "execution_count": null,
   "metadata": {},
   "outputs": [],
   "source": [
    "cube = sm.Cube(10, 10, 10)\n",
    "mesh = cube.export_mesh()\n",
    "vtkmesh = vtkMesh(mesh)\n",
    "def var_u(xyz):\n",
    "    dp = 2*np.pi\n",
    "    return 10+2*np.sin(dp*xyz[:,2])+np.sin(2*dp*xyz[:,0])\n",
    "def var_p(xyz):\n",
    "    dp = 2*np.pi\n",
    "    return 100+np.sin(4*dp*xyz[:,2])*np.sin(2*dp*xyz[:,2])\n",
    "xyz = vtkmesh.pyvista_grid.cell_centers().points\n",
    "vtkmesh.pyvista_grid.cell_data['U'] = var_u(xyz)\n",
    "vtkmesh.pyvista_grid.cell_data['P'] = var_p(xyz)\n"
   ]
  },
  {
   "cell_type": "code",
   "execution_count": null,
   "metadata": {},
   "outputs": [],
   "source": [
    "with Display():\n",
    "    vtkmesh.plot()"
   ]
  },
  {
   "cell_type": "code",
   "execution_count": null,
   "metadata": {},
   "outputs": [],
   "source": [
    "vtkslice = vtkmesh.vtk_zconvolution(rms=True)\n",
    "with Display():\n",
    "    vtkslice.plot()"
   ]
  }
 ],
 "metadata": {
  "kernelspec": {
   "display_name": ".venv",
   "language": "python",
   "name": "python3"
  },
  "language_info": {
   "codemirror_mode": {
    "name": "ipython",
    "version": 3
   },
   "file_extension": ".py",
   "mimetype": "text/x-python",
   "name": "python",
   "nbconvert_exporter": "python",
   "pygments_lexer": "ipython3",
   "version": "3.13.2"
  }
 },
 "nbformat": 4,
 "nbformat_minor": 2
}
